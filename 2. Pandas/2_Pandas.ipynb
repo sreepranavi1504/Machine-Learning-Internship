{
  "nbformat": 4,
  "nbformat_minor": 0,
  "metadata": {
    "colab": {
      "provenance": []
    },
    "kernelspec": {
      "name": "python3",
      "display_name": "Python 3"
    },
    "language_info": {
      "name": "python"
    }
  },
  "cells": [
    {
      "cell_type": "markdown",
      "source": [
        "## **1. Introduction to Pandas:**\n",
        "\n",
        "Pandas is a powerful open-source data analysis and manipulation library for Python. It provides data structures and functions needed to manipulate structured data easily.\n",
        "\n",
        "Key Features:\n",
        "\n",
        "    - Provides two primary data structures: Series and DataFrame\n",
        "    - Easy handling of missing data\n",
        "    - Powerful data wrangling and filtering capabilities\n",
        "    - Integration with NumPy, Matplotlib, and other libraries\n",
        "    - Works well with structured data like CSV, Excel, SQL databases, etc."
      ],
      "metadata": {
        "id": "fhblVMqZZzuf"
      }
    },
    {
      "cell_type": "markdown",
      "source": [
        "## **2. Installation and Importing Pandas:**\n",
        "\n",
        "Installation:\n",
        "\n",
        "Use `pip` to install Pandas:"
      ],
      "metadata": {
        "id": "s_-wQcgzaHOv"
      }
    },
    {
      "cell_type": "code",
      "execution_count": 7,
      "metadata": {
        "colab": {
          "base_uri": "https://localhost:8080/"
        },
        "id": "6OcMmdH1ZV75",
        "outputId": "3fa38c51-5495-4fb5-ab09-d1d09ef01a51"
      },
      "outputs": [
        {
          "output_type": "stream",
          "name": "stdout",
          "text": [
            "Requirement already satisfied: pandas in /usr/local/lib/python3.11/dist-packages (2.2.2)\n",
            "Requirement already satisfied: numpy>=1.23.2 in /usr/local/lib/python3.11/dist-packages (from pandas) (1.26.4)\n",
            "Requirement already satisfied: python-dateutil>=2.8.2 in /usr/local/lib/python3.11/dist-packages (from pandas) (2.8.2)\n",
            "Requirement already satisfied: pytz>=2020.1 in /usr/local/lib/python3.11/dist-packages (from pandas) (2025.1)\n",
            "Requirement already satisfied: tzdata>=2022.7 in /usr/local/lib/python3.11/dist-packages (from pandas) (2025.1)\n",
            "Requirement already satisfied: six>=1.5 in /usr/local/lib/python3.11/dist-packages (from python-dateutil>=2.8.2->pandas) (1.17.0)\n"
          ]
        }
      ],
      "source": [
        "pip install pandas"
      ]
    },
    {
      "cell_type": "markdown",
      "source": [
        "### **Importing Pandas:**"
      ],
      "metadata": {
        "id": "Cd0ckGPGaP9d"
      }
    },
    {
      "cell_type": "code",
      "source": [
        "import pandas as pd"
      ],
      "metadata": {
        "id": "ZBuocpA6aPRj"
      },
      "execution_count": 8,
      "outputs": []
    },
    {
      "cell_type": "markdown",
      "source": [
        "The `pd` alias is a common convention."
      ],
      "metadata": {
        "id": "QV2I3jlGaXVD"
      }
    },
    {
      "cell_type": "markdown",
      "source": [
        "## **3. Pandas Data Structures:**\n",
        "### **3.1 Series:**\n",
        "\n",
        "A one-dimensional labeled array that can hold any data type.\n",
        "\n",
        "#### Example:"
      ],
      "metadata": {
        "id": "On-Ha5emaaS-"
      }
    },
    {
      "cell_type": "code",
      "source": [
        "import pandas as pd\n",
        "\n",
        "# Creating a Series from a list\n",
        "data = [10, 20, 30, 40]\n",
        "s = pd.Series(data)\n",
        "print(s)"
      ],
      "metadata": {
        "colab": {
          "base_uri": "https://localhost:8080/"
        },
        "id": "N2_R6g0EaU8S",
        "outputId": "34ac2d76-4996-48ba-a958-de83d3f7eefd"
      },
      "execution_count": 9,
      "outputs": [
        {
          "output_type": "stream",
          "name": "stdout",
          "text": [
            "0    10\n",
            "1    20\n",
            "2    30\n",
            "3    40\n",
            "dtype: int64\n"
          ]
        }
      ]
    },
    {
      "cell_type": "markdown",
      "source": [
        "Each element is indexed with an integer by default."
      ],
      "metadata": {
        "id": "Oj09BnQHaoQq"
      }
    },
    {
      "cell_type": "markdown",
      "source": [
        "### **3.2 DataFrame:**\n",
        "\n",
        "A two-dimensional, tabular data structure with labeled axes (rows and columns).\n",
        "\n",
        "#### Example:"
      ],
      "metadata": {
        "id": "Rak9xRzLaq_K"
      }
    },
    {
      "cell_type": "code",
      "source": [
        "data = {\n",
        "    \"Name\": [\"Alice\", \"Bob\", \"Charlie\"],\n",
        "    \"Age\": [25, 30, 35],\n",
        "    \"City\": [\"New York\", \"Los Angeles\", \"Chicago\"]\n",
        "}\n",
        "\n",
        "df = pd.DataFrame(data)\n",
        "print(df)"
      ],
      "metadata": {
        "colab": {
          "base_uri": "https://localhost:8080/"
        },
        "id": "1e_FyY3YalgF",
        "outputId": "c9e128b5-c6d9-4b0d-8aed-fb080f4d6575"
      },
      "execution_count": 10,
      "outputs": [
        {
          "output_type": "stream",
          "name": "stdout",
          "text": [
            "      Name  Age         City\n",
            "0    Alice   25     New York\n",
            "1      Bob   30  Los Angeles\n",
            "2  Charlie   35      Chicago\n"
          ]
        }
      ]
    },
    {
      "cell_type": "markdown",
      "source": [
        "## **4. DataFrame Attributes:**\n",
        "\n",
        "| Attribute | Description |\n",
        "|:--------:|:--------:|\n",
        "|df.shape\t| Returns the dimensions of the DataFrame|\n",
        "|df.columns\t| Returns the column names |\n",
        "| df.index\t| Returns the index of the DataFrame\n",
        "| df.dtypes |\tReturns data types of columns\n",
        "\n",
        "#### Example:"
      ],
      "metadata": {
        "id": "-OzjesdAbdvf"
      }
    },
    {
      "cell_type": "code",
      "source": [
        "print(\"Shape:\", df.shape)      # Output: (3, 3)\n",
        "print(\"Columns:\", df.columns)  # Output: Index(['Name', 'Age', 'City'], dtype='object')\n",
        "print(\"Data Types:\", df.dtypes)"
      ],
      "metadata": {
        "id": "MB6PKRFea8v0",
        "colab": {
          "base_uri": "https://localhost:8080/"
        },
        "outputId": "9465d1ad-9c65-4edf-d21c-777936bf023b"
      },
      "execution_count": 12,
      "outputs": [
        {
          "output_type": "stream",
          "name": "stdout",
          "text": [
            "Shape: (6085, 41)\n",
            "Columns: Index(['HR', 'O2Sat', 'Temp', 'SBP', 'MAP', 'DBP', 'Resp', 'EtCO2',\n",
            "       'BaseExcess', 'HCO3', 'FiO2', 'pH', 'PaCO2', 'SaO2', 'AST', 'BUN',\n",
            "       'Alkalinephos', 'Calcium', 'Chloride', 'Creatinine', 'Bilirubin_direct',\n",
            "       'Glucose', 'Lactate', 'Magnesium', 'Phosphate', 'Potassium',\n",
            "       'Bilirubin_total', 'TroponinI', 'Hct', 'Hgb', 'PTT', 'WBC',\n",
            "       'Fibrinogen', 'Platelets', 'Age', 'Gender', 'Unit1', 'Unit2',\n",
            "       'HospAdmTime', 'ICULOS', 'SepsisLabel'],\n",
            "      dtype='object')\n",
            "Data Types: HR                  float64\n",
            "O2Sat               float64\n",
            "Temp                float64\n",
            "SBP                 float64\n",
            "MAP                 float64\n",
            "DBP                 float64\n",
            "Resp                float64\n",
            "EtCO2               float64\n",
            "BaseExcess          float64\n",
            "HCO3                float64\n",
            "FiO2                float64\n",
            "pH                  float64\n",
            "PaCO2               float64\n",
            "SaO2                float64\n",
            "AST                 float64\n",
            "BUN                 float64\n",
            "Alkalinephos        float64\n",
            "Calcium             float64\n",
            "Chloride            float64\n",
            "Creatinine          float64\n",
            "Bilirubin_direct    float64\n",
            "Glucose             float64\n",
            "Lactate             float64\n",
            "Magnesium           float64\n",
            "Phosphate           float64\n",
            "Potassium           float64\n",
            "Bilirubin_total     float64\n",
            "TroponinI           float64\n",
            "Hct                 float64\n",
            "Hgb                 float64\n",
            "PTT                 float64\n",
            "WBC                 float64\n",
            "Fibrinogen          float64\n",
            "Platelets           float64\n",
            "Age                 float64\n",
            "Gender              float64\n",
            "Unit1               float64\n",
            "Unit2               float64\n",
            "HospAdmTime         float64\n",
            "ICULOS              float64\n",
            "SepsisLabel         float64\n",
            "dtype: object\n"
          ]
        }
      ]
    },
    {
      "cell_type": "markdown",
      "source": [
        "## **5. Data Selection and Indexing:**\n",
        "\n",
        "### **5.1. Selecting Columns:**"
      ],
      "metadata": {
        "id": "3xNq34C1knBo"
      }
    },
    {
      "cell_type": "code",
      "source": [
        "print(df[\"Gender\"])"
      ],
      "metadata": {
        "colab": {
          "base_uri": "https://localhost:8080/"
        },
        "id": "6x2Y5g6hkegB",
        "outputId": "e8d91957-f60a-4a51-da8c-8c05ee57f6f5"
      },
      "execution_count": 14,
      "outputs": [
        {
          "output_type": "stream",
          "name": "stdout",
          "text": [
            "0       0.0\n",
            "1       0.0\n",
            "2       0.0\n",
            "3       0.0\n",
            "4       0.0\n",
            "       ... \n",
            "6080    1.0\n",
            "6081    1.0\n",
            "6082    1.0\n",
            "6083    1.0\n",
            "6084    NaN\n",
            "Name: Gender, Length: 6085, dtype: float64\n"
          ]
        }
      ]
    },
    {
      "cell_type": "markdown",
      "source": [
        "### **5.2. Selecting Rows with `iloc` (Integer Location):**"
      ],
      "metadata": {
        "id": "jP32aglUk4md"
      }
    },
    {
      "cell_type": "code",
      "source": [
        "print(df.iloc[1])  # Select second row"
      ],
      "metadata": {
        "colab": {
          "base_uri": "https://localhost:8080/"
        },
        "id": "lE7q77BdktbR",
        "outputId": "6ff0bac7-f444-4857-d4f9-1ac1893fa89b"
      },
      "execution_count": 15,
      "outputs": [
        {
          "output_type": "stream",
          "name": "stdout",
          "text": [
            "HR                  97.00\n",
            "O2Sat               95.00\n",
            "Temp                 0.00\n",
            "SBP                 98.00\n",
            "MAP                 75.33\n",
            "DBP                  0.00\n",
            "Resp                19.00\n",
            "EtCO2                0.00\n",
            "BaseExcess           0.00\n",
            "HCO3                 0.00\n",
            "FiO2                 0.00\n",
            "pH                   0.00\n",
            "PaCO2                0.00\n",
            "SaO2                 0.00\n",
            "AST                  0.00\n",
            "BUN                  0.00\n",
            "Alkalinephos         0.00\n",
            "Calcium              0.00\n",
            "Chloride             0.00\n",
            "Creatinine           0.00\n",
            "Bilirubin_direct     0.00\n",
            "Glucose              0.00\n",
            "Lactate              0.00\n",
            "Magnesium            0.00\n",
            "Phosphate            0.00\n",
            "Potassium            0.00\n",
            "Bilirubin_total      0.00\n",
            "TroponinI            0.00\n",
            "Hct                  0.00\n",
            "Hgb                  0.00\n",
            "PTT                  0.00\n",
            "WBC                  0.00\n",
            "Fibrinogen           0.00\n",
            "Platelets            0.00\n",
            "Age                 83.14\n",
            "Gender               0.00\n",
            "Unit1                0.00\n",
            "Unit2                0.00\n",
            "HospAdmTime         -0.03\n",
            "ICULOS               2.00\n",
            "SepsisLabel          0.00\n",
            "Name: 1, dtype: float64\n"
          ]
        }
      ]
    },
    {
      "cell_type": "markdown",
      "source": [
        "### **5.3. Selecting Rows with Conditions:**"
      ],
      "metadata": {
        "id": "haXJP4lZlEGV"
      }
    },
    {
      "cell_type": "code",
      "source": [
        "# Select rows where Age > 25\n",
        "print(df[df[\"Age\"] > 25])"
      ],
      "metadata": {
        "colab": {
          "base_uri": "https://localhost:8080/"
        },
        "id": "aH89RCe3k-zR",
        "outputId": "7eb615fd-9d38-4346-be60-48159791e658"
      },
      "execution_count": 16,
      "outputs": [
        {
          "output_type": "stream",
          "name": "stdout",
          "text": [
            "         HR  O2Sat  Temp    SBP    MAP  DBP  Resp  EtCO2  BaseExcess  HCO3  \\\n",
            "0       0.0    0.0   0.0    0.0   0.00  0.0   0.0    0.0         0.0   0.0   \n",
            "1      97.0   95.0   0.0   98.0  75.33  0.0  19.0    0.0         0.0   0.0   \n",
            "2      89.0   99.0   0.0  122.0  86.00  0.0  22.0    0.0         0.0   0.0   \n",
            "3      90.0   95.0   0.0    0.0   0.00  0.0  30.0    0.0        24.0   0.0   \n",
            "4     103.0   88.5   0.0  122.0  91.33  0.0  24.5    0.0         0.0   0.0   \n",
            "...     ...    ...   ...    ...    ...  ...   ...    ...         ...   ...   \n",
            "6044   60.0   97.0   0.0    0.0  96.00  0.0  20.0    0.0         0.0   0.0   \n",
            "6045   66.0   97.0   0.0    0.0  84.00  0.0  17.0    0.0         0.0   0.0   \n",
            "6046   61.0   98.0   0.0    0.0  81.00  0.0  14.0    0.0         0.0   0.0   \n",
            "6047   64.0   97.0  36.5    0.0  93.00  0.0  14.0    0.0         0.0   0.0   \n",
            "6048   60.0   97.0   0.0    0.0  93.00  0.0  15.0    0.0         0.0   0.0   \n",
            "\n",
            "      ...  WBC  Fibrinogen  Platelets    Age  Gender  Unit1  Unit2  \\\n",
            "0     ...  0.0         0.0        0.0  83.14     0.0    0.0    0.0   \n",
            "1     ...  0.0         0.0        0.0  83.14     0.0    0.0    0.0   \n",
            "2     ...  0.0         0.0        0.0  83.14     0.0    0.0    0.0   \n",
            "3     ...  0.0         0.0        0.0  83.14     0.0    0.0    0.0   \n",
            "4     ...  0.0         0.0        0.0  83.14     0.0    0.0    0.0   \n",
            "...   ...  ...         ...        ...    ...     ...    ...    ...   \n",
            "6044  ...  0.0         0.0        0.0  75.79     0.0    0.0    0.0   \n",
            "6045  ...  0.0         0.0        0.0  75.79     0.0    0.0    0.0   \n",
            "6046  ...  0.0         0.0        0.0  75.79     0.0    0.0    0.0   \n",
            "6047  ...  0.0         0.0        0.0  75.79     0.0    0.0    0.0   \n",
            "6048  ...  0.0         0.0        0.0  75.79     0.0    0.0    0.0   \n",
            "\n",
            "      HospAdmTime  ICULOS  SepsisLabel  \n",
            "0           -0.03     1.0          0.0  \n",
            "1           -0.03     2.0          0.0  \n",
            "2           -0.03     3.0          0.0  \n",
            "3           -0.03     4.0          0.0  \n",
            "4           -0.03     5.0          0.0  \n",
            "...           ...     ...          ...  \n",
            "6044       -63.41    49.0          0.0  \n",
            "6045       -63.41    50.0          0.0  \n",
            "6046       -63.41    51.0          0.0  \n",
            "6047       -63.41    52.0          0.0  \n",
            "6048       -63.41    53.0          0.0  \n",
            "\n",
            "[5908 rows x 41 columns]\n"
          ]
        }
      ]
    },
    {
      "cell_type": "markdown",
      "source": [
        "## **6. Handling Missing Data:**\n",
        "\n",
        "### **6.1. Checking for Missing Values:**"
      ],
      "metadata": {
        "id": "ryLS6BGQlNc3"
      }
    },
    {
      "cell_type": "code",
      "source": [
        "print(df.isnull())  # Returns a DataFrame with True for missing values"
      ],
      "metadata": {
        "colab": {
          "base_uri": "https://localhost:8080/"
        },
        "id": "LLkcBs5wlJZW",
        "outputId": "ccf7d9d5-4ff7-4b25-f015-16eb4b17977d"
      },
      "execution_count": 17,
      "outputs": [
        {
          "output_type": "stream",
          "name": "stdout",
          "text": [
            "         HR  O2Sat   Temp    SBP    MAP    DBP   Resp  EtCO2  BaseExcess  \\\n",
            "0     False  False  False  False  False  False  False  False       False   \n",
            "1     False  False  False  False  False  False  False  False       False   \n",
            "2     False  False  False  False  False  False  False  False       False   \n",
            "3     False  False  False  False  False  False  False  False       False   \n",
            "4     False  False  False  False  False  False  False  False       False   \n",
            "...     ...    ...    ...    ...    ...    ...    ...    ...         ...   \n",
            "6080  False  False  False  False  False  False  False  False       False   \n",
            "6081  False  False  False  False  False  False  False  False       False   \n",
            "6082  False  False  False  False  False  False  False  False       False   \n",
            "6083  False  False  False  False  False  False  False  False       False   \n",
            "6084  False  False  False  False  False  False  False  False       False   \n",
            "\n",
            "       HCO3  ...    WBC  Fibrinogen  Platelets    Age  Gender  Unit1  Unit2  \\\n",
            "0     False  ...  False       False      False  False   False  False  False   \n",
            "1     False  ...  False       False      False  False   False  False  False   \n",
            "2     False  ...  False       False      False  False   False  False  False   \n",
            "3     False  ...  False       False      False  False   False  False  False   \n",
            "4     False  ...  False       False      False  False   False  False  False   \n",
            "...     ...  ...    ...         ...        ...    ...     ...    ...    ...   \n",
            "6080  False  ...  False       False      False  False   False  False  False   \n",
            "6081  False  ...  False       False      False  False   False  False  False   \n",
            "6082  False  ...  False       False      False  False   False  False  False   \n",
            "6083  False  ...  False       False      False  False   False  False  False   \n",
            "6084  False  ...   True        True       True   True    True   True   True   \n",
            "\n",
            "      HospAdmTime  ICULOS  SepsisLabel  \n",
            "0           False   False        False  \n",
            "1           False   False        False  \n",
            "2           False   False        False  \n",
            "3           False   False        False  \n",
            "4           False   False        False  \n",
            "...           ...     ...          ...  \n",
            "6080        False   False        False  \n",
            "6081        False   False        False  \n",
            "6082        False   False        False  \n",
            "6083        False   False        False  \n",
            "6084         True    True         True  \n",
            "\n",
            "[6085 rows x 41 columns]\n"
          ]
        }
      ]
    },
    {
      "cell_type": "markdown",
      "source": [
        "### **6.2. Filling Missing Values:**"
      ],
      "metadata": {
        "id": "HwH4xEoJlXcj"
      }
    },
    {
      "cell_type": "code",
      "source": [
        "df[\"Age\"].fillna(0, inplace=True)"
      ],
      "metadata": {
        "colab": {
          "base_uri": "https://localhost:8080/"
        },
        "id": "SBaqiBtdlUpZ",
        "outputId": "0556ae8f-bc83-456e-df4e-47e54b95b80f"
      },
      "execution_count": 18,
      "outputs": [
        {
          "output_type": "stream",
          "name": "stderr",
          "text": [
            "<ipython-input-18-97f872be5d2a>:1: FutureWarning: A value is trying to be set on a copy of a DataFrame or Series through chained assignment using an inplace method.\n",
            "The behavior will change in pandas 3.0. This inplace method will never work because the intermediate object on which we are setting values always behaves as a copy.\n",
            "\n",
            "For example, when doing 'df[col].method(value, inplace=True)', try using 'df.method({col: value}, inplace=True)' or df[col] = df[col].method(value) instead, to perform the operation inplace on the original object.\n",
            "\n",
            "\n",
            "  df[\"Age\"].fillna(0, inplace=True)\n"
          ]
        }
      ]
    },
    {
      "cell_type": "markdown",
      "source": [
        "### **6.3. Dropping Missing Values:**"
      ],
      "metadata": {
        "id": "3LzTD86qleCu"
      }
    },
    {
      "cell_type": "code",
      "source": [
        "df.dropna(inplace=True)"
      ],
      "metadata": {
        "id": "aA7D2Z3Olbh3"
      },
      "execution_count": 19,
      "outputs": []
    },
    {
      "cell_type": "markdown",
      "source": [
        "## **7. File I/O Operations:**\n",
        "\n",
        "### **7.1. Reading a CSV File:**"
      ],
      "metadata": {
        "id": "xKhwFKFAllRZ"
      }
    },
    {
      "cell_type": "code",
      "source": [
        "df = pd.read_csv(\"/content/drive/MyDrive/Colab Notebooks/Harsha/Dataset/Dataset.csv\")"
      ],
      "metadata": {
        "id": "KNucx-EaliQz"
      },
      "execution_count": 21,
      "outputs": []
    },
    {
      "cell_type": "markdown",
      "source": [
        "### **7.2. Writing a DataFrame to CSV:**"
      ],
      "metadata": {
        "id": "Jmg4oggPmNG6"
      }
    },
    {
      "cell_type": "code",
      "source": [
        "df.to_csv(\"output.csv\", index=False)"
      ],
      "metadata": {
        "id": "zH9au98OlrqB"
      },
      "execution_count": 22,
      "outputs": []
    },
    {
      "cell_type": "markdown",
      "source": [
        "## **8. Data Aggregation and Grouping:**\n",
        "\n",
        "### **8.1. Grouping Data:**"
      ],
      "metadata": {
        "id": "-PfIbKnlmg_h"
      }
    },
    {
      "cell_type": "code",
      "source": [
        "grouped = df.groupby(\"SBP\")\n",
        "print(grouped[\"Age\"].mean())"
      ],
      "metadata": {
        "colab": {
          "base_uri": "https://localhost:8080/"
        },
        "id": "Zs5eHwW-mTjw",
        "outputId": "eeaf216b-f811-4d8d-858e-b1e4f5b304f7"
      },
      "execution_count": 24,
      "outputs": [
        {
          "output_type": "stream",
          "name": "stdout",
          "text": [
            "SBP\n",
            "20.0     54.600000\n",
            "21.0     63.000000\n",
            "22.0     64.276667\n",
            "23.5     59.870000\n",
            "24.0     63.392000\n",
            "           ...    \n",
            "295.0    88.000000\n",
            "296.0    45.000000\n",
            "298.0    56.000000\n",
            "299.0    33.000000\n",
            "300.0    42.000000\n",
            "Name: Age, Length: 987, dtype: float64\n"
          ]
        }
      ]
    },
    {
      "cell_type": "markdown",
      "source": [
        "### **8.2. Aggregating Data:**"
      ],
      "metadata": {
        "id": "5ExeQzkems3r"
      }
    },
    {
      "cell_type": "code",
      "source": [
        "df[\"Age\"].sum()  # Sum of the Age column"
      ],
      "metadata": {
        "colab": {
          "base_uri": "https://localhost:8080/"
        },
        "id": "4SAilf_tmmrK",
        "outputId": "3b0ec86f-b252-471b-cfd4-4eac4399d509"
      },
      "execution_count": 25,
      "outputs": [
        {
          "output_type": "execute_result",
          "data": {
            "text/plain": [
              "95150087.68999998"
            ]
          },
          "metadata": {},
          "execution_count": 25
        }
      ]
    },
    {
      "cell_type": "markdown",
      "source": [
        "## **9. Data Cleaning and Transformation:**\n",
        "\n",
        "### **9.1. Renaming Columns:**"
      ],
      "metadata": {
        "id": "59B2ZGOFm2aL"
      }
    },
    {
      "cell_type": "code",
      "source": [
        "df.rename(columns={\"Name\": \"Full Name\"}, inplace=True)"
      ],
      "metadata": {
        "id": "mpCWMbpumx7I"
      },
      "execution_count": 26,
      "outputs": []
    },
    {
      "cell_type": "markdown",
      "source": [
        "### **9.2. Removing Duplicates:**"
      ],
      "metadata": {
        "id": "ZERC17Mpm-GU"
      }
    },
    {
      "cell_type": "code",
      "source": [
        "df.drop_duplicates(inplace=True)"
      ],
      "metadata": {
        "id": "0hfcxq0Wm81p"
      },
      "execution_count": 27,
      "outputs": []
    },
    {
      "cell_type": "markdown",
      "source": [
        "## **10. Merging and Joining DataFrames:**\n",
        "\n",
        "### **10.1. Merging:**"
      ],
      "metadata": {
        "id": "hDg0prEjnH52"
      }
    },
    {
      "cell_type": "code",
      "source": [
        "df1 = pd.DataFrame({\"ID\": [1, 2], \"Name\": [\"Alice\", \"Bob\"]})\n",
        "df2 = pd.DataFrame({\"ID\": [1, 2], \"Score\": [90, 95]})\n",
        "\n",
        "merged_df = pd.merge(df1, df2, on=\"ID\")"
      ],
      "metadata": {
        "id": "Itdr5zkwnCgw"
      },
      "execution_count": 29,
      "outputs": []
    },
    {
      "cell_type": "markdown",
      "source": [
        "### **10.2. Concatenation:**"
      ],
      "metadata": {
        "id": "0FEHb7penTPC"
      }
    },
    {
      "cell_type": "code",
      "source": [
        "concat_df = pd.concat([df1, df2], axis=0)"
      ],
      "metadata": {
        "id": "6enwWrFcnPPD"
      },
      "execution_count": 30,
      "outputs": []
    },
    {
      "cell_type": "markdown",
      "source": [
        "## **11. Pivot Tables:**\n",
        "\n",
        "Pivot tables summarize and aggregate data."
      ],
      "metadata": {
        "id": "ORiISHLxnax-"
      }
    },
    {
      "cell_type": "code",
      "source": [
        "pivot = df.pivot_table(values=\"Age\", index=\"SBP\", aggfunc=\"mean\")\n",
        "\n",
        "pivot"
      ],
      "metadata": {
        "colab": {
          "base_uri": "https://localhost:8080/",
          "height": 455
        },
        "id": "_gIzlQvBnYhO",
        "outputId": "f053d08c-1a97-41ce-c36d-50e71ddc5c02"
      },
      "execution_count": 34,
      "outputs": [
        {
          "output_type": "execute_result",
          "data": {
            "text/plain": [
              "             Age\n",
              "SBP             \n",
              "20.0   54.600000\n",
              "21.0   63.000000\n",
              "22.0   64.276667\n",
              "23.5   59.870000\n",
              "24.0   63.392000\n",
              "...          ...\n",
              "295.0  88.000000\n",
              "296.0  45.000000\n",
              "298.0  56.000000\n",
              "299.0  33.000000\n",
              "300.0  42.000000\n",
              "\n",
              "[987 rows x 1 columns]"
            ],
            "text/html": [
              "\n",
              "  <div id=\"df-6aff325b-f462-4d94-892b-4fb9cd67d94d\" class=\"colab-df-container\">\n",
              "    <div>\n",
              "<style scoped>\n",
              "    .dataframe tbody tr th:only-of-type {\n",
              "        vertical-align: middle;\n",
              "    }\n",
              "\n",
              "    .dataframe tbody tr th {\n",
              "        vertical-align: top;\n",
              "    }\n",
              "\n",
              "    .dataframe thead th {\n",
              "        text-align: right;\n",
              "    }\n",
              "</style>\n",
              "<table border=\"1\" class=\"dataframe\">\n",
              "  <thead>\n",
              "    <tr style=\"text-align: right;\">\n",
              "      <th></th>\n",
              "      <th>Age</th>\n",
              "    </tr>\n",
              "    <tr>\n",
              "      <th>SBP</th>\n",
              "      <th></th>\n",
              "    </tr>\n",
              "  </thead>\n",
              "  <tbody>\n",
              "    <tr>\n",
              "      <th>20.0</th>\n",
              "      <td>54.600000</td>\n",
              "    </tr>\n",
              "    <tr>\n",
              "      <th>21.0</th>\n",
              "      <td>63.000000</td>\n",
              "    </tr>\n",
              "    <tr>\n",
              "      <th>22.0</th>\n",
              "      <td>64.276667</td>\n",
              "    </tr>\n",
              "    <tr>\n",
              "      <th>23.5</th>\n",
              "      <td>59.870000</td>\n",
              "    </tr>\n",
              "    <tr>\n",
              "      <th>24.0</th>\n",
              "      <td>63.392000</td>\n",
              "    </tr>\n",
              "    <tr>\n",
              "      <th>...</th>\n",
              "      <td>...</td>\n",
              "    </tr>\n",
              "    <tr>\n",
              "      <th>295.0</th>\n",
              "      <td>88.000000</td>\n",
              "    </tr>\n",
              "    <tr>\n",
              "      <th>296.0</th>\n",
              "      <td>45.000000</td>\n",
              "    </tr>\n",
              "    <tr>\n",
              "      <th>298.0</th>\n",
              "      <td>56.000000</td>\n",
              "    </tr>\n",
              "    <tr>\n",
              "      <th>299.0</th>\n",
              "      <td>33.000000</td>\n",
              "    </tr>\n",
              "    <tr>\n",
              "      <th>300.0</th>\n",
              "      <td>42.000000</td>\n",
              "    </tr>\n",
              "  </tbody>\n",
              "</table>\n",
              "<p>987 rows × 1 columns</p>\n",
              "</div>\n",
              "    <div class=\"colab-df-buttons\">\n",
              "\n",
              "  <div class=\"colab-df-container\">\n",
              "    <button class=\"colab-df-convert\" onclick=\"convertToInteractive('df-6aff325b-f462-4d94-892b-4fb9cd67d94d')\"\n",
              "            title=\"Convert this dataframe to an interactive table.\"\n",
              "            style=\"display:none;\">\n",
              "\n",
              "  <svg xmlns=\"http://www.w3.org/2000/svg\" height=\"24px\" viewBox=\"0 -960 960 960\">\n",
              "    <path d=\"M120-120v-720h720v720H120Zm60-500h600v-160H180v160Zm220 220h160v-160H400v160Zm0 220h160v-160H400v160ZM180-400h160v-160H180v160Zm440 0h160v-160H620v160ZM180-180h160v-160H180v160Zm440 0h160v-160H620v160Z\"/>\n",
              "  </svg>\n",
              "    </button>\n",
              "\n",
              "  <style>\n",
              "    .colab-df-container {\n",
              "      display:flex;\n",
              "      gap: 12px;\n",
              "    }\n",
              "\n",
              "    .colab-df-convert {\n",
              "      background-color: #E8F0FE;\n",
              "      border: none;\n",
              "      border-radius: 50%;\n",
              "      cursor: pointer;\n",
              "      display: none;\n",
              "      fill: #1967D2;\n",
              "      height: 32px;\n",
              "      padding: 0 0 0 0;\n",
              "      width: 32px;\n",
              "    }\n",
              "\n",
              "    .colab-df-convert:hover {\n",
              "      background-color: #E2EBFA;\n",
              "      box-shadow: 0px 1px 2px rgba(60, 64, 67, 0.3), 0px 1px 3px 1px rgba(60, 64, 67, 0.15);\n",
              "      fill: #174EA6;\n",
              "    }\n",
              "\n",
              "    .colab-df-buttons div {\n",
              "      margin-bottom: 4px;\n",
              "    }\n",
              "\n",
              "    [theme=dark] .colab-df-convert {\n",
              "      background-color: #3B4455;\n",
              "      fill: #D2E3FC;\n",
              "    }\n",
              "\n",
              "    [theme=dark] .colab-df-convert:hover {\n",
              "      background-color: #434B5C;\n",
              "      box-shadow: 0px 1px 3px 1px rgba(0, 0, 0, 0.15);\n",
              "      filter: drop-shadow(0px 1px 2px rgba(0, 0, 0, 0.3));\n",
              "      fill: #FFFFFF;\n",
              "    }\n",
              "  </style>\n",
              "\n",
              "    <script>\n",
              "      const buttonEl =\n",
              "        document.querySelector('#df-6aff325b-f462-4d94-892b-4fb9cd67d94d button.colab-df-convert');\n",
              "      buttonEl.style.display =\n",
              "        google.colab.kernel.accessAllowed ? 'block' : 'none';\n",
              "\n",
              "      async function convertToInteractive(key) {\n",
              "        const element = document.querySelector('#df-6aff325b-f462-4d94-892b-4fb9cd67d94d');\n",
              "        const dataTable =\n",
              "          await google.colab.kernel.invokeFunction('convertToInteractive',\n",
              "                                                    [key], {});\n",
              "        if (!dataTable) return;\n",
              "\n",
              "        const docLinkHtml = 'Like what you see? Visit the ' +\n",
              "          '<a target=\"_blank\" href=https://colab.research.google.com/notebooks/data_table.ipynb>data table notebook</a>'\n",
              "          + ' to learn more about interactive tables.';\n",
              "        element.innerHTML = '';\n",
              "        dataTable['output_type'] = 'display_data';\n",
              "        await google.colab.output.renderOutput(dataTable, element);\n",
              "        const docLink = document.createElement('div');\n",
              "        docLink.innerHTML = docLinkHtml;\n",
              "        element.appendChild(docLink);\n",
              "      }\n",
              "    </script>\n",
              "  </div>\n",
              "\n",
              "\n",
              "<div id=\"df-7d109389-5110-405e-91a6-7874f8364d82\">\n",
              "  <button class=\"colab-df-quickchart\" onclick=\"quickchart('df-7d109389-5110-405e-91a6-7874f8364d82')\"\n",
              "            title=\"Suggest charts\"\n",
              "            style=\"display:none;\">\n",
              "\n",
              "<svg xmlns=\"http://www.w3.org/2000/svg\" height=\"24px\"viewBox=\"0 0 24 24\"\n",
              "     width=\"24px\">\n",
              "    <g>\n",
              "        <path d=\"M19 3H5c-1.1 0-2 .9-2 2v14c0 1.1.9 2 2 2h14c1.1 0 2-.9 2-2V5c0-1.1-.9-2-2-2zM9 17H7v-7h2v7zm4 0h-2V7h2v10zm4 0h-2v-4h2v4z\"/>\n",
              "    </g>\n",
              "</svg>\n",
              "  </button>\n",
              "\n",
              "<style>\n",
              "  .colab-df-quickchart {\n",
              "      --bg-color: #E8F0FE;\n",
              "      --fill-color: #1967D2;\n",
              "      --hover-bg-color: #E2EBFA;\n",
              "      --hover-fill-color: #174EA6;\n",
              "      --disabled-fill-color: #AAA;\n",
              "      --disabled-bg-color: #DDD;\n",
              "  }\n",
              "\n",
              "  [theme=dark] .colab-df-quickchart {\n",
              "      --bg-color: #3B4455;\n",
              "      --fill-color: #D2E3FC;\n",
              "      --hover-bg-color: #434B5C;\n",
              "      --hover-fill-color: #FFFFFF;\n",
              "      --disabled-bg-color: #3B4455;\n",
              "      --disabled-fill-color: #666;\n",
              "  }\n",
              "\n",
              "  .colab-df-quickchart {\n",
              "    background-color: var(--bg-color);\n",
              "    border: none;\n",
              "    border-radius: 50%;\n",
              "    cursor: pointer;\n",
              "    display: none;\n",
              "    fill: var(--fill-color);\n",
              "    height: 32px;\n",
              "    padding: 0;\n",
              "    width: 32px;\n",
              "  }\n",
              "\n",
              "  .colab-df-quickchart:hover {\n",
              "    background-color: var(--hover-bg-color);\n",
              "    box-shadow: 0 1px 2px rgba(60, 64, 67, 0.3), 0 1px 3px 1px rgba(60, 64, 67, 0.15);\n",
              "    fill: var(--button-hover-fill-color);\n",
              "  }\n",
              "\n",
              "  .colab-df-quickchart-complete:disabled,\n",
              "  .colab-df-quickchart-complete:disabled:hover {\n",
              "    background-color: var(--disabled-bg-color);\n",
              "    fill: var(--disabled-fill-color);\n",
              "    box-shadow: none;\n",
              "  }\n",
              "\n",
              "  .colab-df-spinner {\n",
              "    border: 2px solid var(--fill-color);\n",
              "    border-color: transparent;\n",
              "    border-bottom-color: var(--fill-color);\n",
              "    animation:\n",
              "      spin 1s steps(1) infinite;\n",
              "  }\n",
              "\n",
              "  @keyframes spin {\n",
              "    0% {\n",
              "      border-color: transparent;\n",
              "      border-bottom-color: var(--fill-color);\n",
              "      border-left-color: var(--fill-color);\n",
              "    }\n",
              "    20% {\n",
              "      border-color: transparent;\n",
              "      border-left-color: var(--fill-color);\n",
              "      border-top-color: var(--fill-color);\n",
              "    }\n",
              "    30% {\n",
              "      border-color: transparent;\n",
              "      border-left-color: var(--fill-color);\n",
              "      border-top-color: var(--fill-color);\n",
              "      border-right-color: var(--fill-color);\n",
              "    }\n",
              "    40% {\n",
              "      border-color: transparent;\n",
              "      border-right-color: var(--fill-color);\n",
              "      border-top-color: var(--fill-color);\n",
              "    }\n",
              "    60% {\n",
              "      border-color: transparent;\n",
              "      border-right-color: var(--fill-color);\n",
              "    }\n",
              "    80% {\n",
              "      border-color: transparent;\n",
              "      border-right-color: var(--fill-color);\n",
              "      border-bottom-color: var(--fill-color);\n",
              "    }\n",
              "    90% {\n",
              "      border-color: transparent;\n",
              "      border-bottom-color: var(--fill-color);\n",
              "    }\n",
              "  }\n",
              "</style>\n",
              "\n",
              "  <script>\n",
              "    async function quickchart(key) {\n",
              "      const quickchartButtonEl =\n",
              "        document.querySelector('#' + key + ' button');\n",
              "      quickchartButtonEl.disabled = true;  // To prevent multiple clicks.\n",
              "      quickchartButtonEl.classList.add('colab-df-spinner');\n",
              "      try {\n",
              "        const charts = await google.colab.kernel.invokeFunction(\n",
              "            'suggestCharts', [key], {});\n",
              "      } catch (error) {\n",
              "        console.error('Error during call to suggestCharts:', error);\n",
              "      }\n",
              "      quickchartButtonEl.classList.remove('colab-df-spinner');\n",
              "      quickchartButtonEl.classList.add('colab-df-quickchart-complete');\n",
              "    }\n",
              "    (() => {\n",
              "      let quickchartButtonEl =\n",
              "        document.querySelector('#df-7d109389-5110-405e-91a6-7874f8364d82 button');\n",
              "      quickchartButtonEl.style.display =\n",
              "        google.colab.kernel.accessAllowed ? 'block' : 'none';\n",
              "    })();\n",
              "  </script>\n",
              "</div>\n",
              "\n",
              "  <div id=\"id_7318d5b9-09da-4db7-82c6-501ed418fac3\">\n",
              "    <style>\n",
              "      .colab-df-generate {\n",
              "        background-color: #E8F0FE;\n",
              "        border: none;\n",
              "        border-radius: 50%;\n",
              "        cursor: pointer;\n",
              "        display: none;\n",
              "        fill: #1967D2;\n",
              "        height: 32px;\n",
              "        padding: 0 0 0 0;\n",
              "        width: 32px;\n",
              "      }\n",
              "\n",
              "      .colab-df-generate:hover {\n",
              "        background-color: #E2EBFA;\n",
              "        box-shadow: 0px 1px 2px rgba(60, 64, 67, 0.3), 0px 1px 3px 1px rgba(60, 64, 67, 0.15);\n",
              "        fill: #174EA6;\n",
              "      }\n",
              "\n",
              "      [theme=dark] .colab-df-generate {\n",
              "        background-color: #3B4455;\n",
              "        fill: #D2E3FC;\n",
              "      }\n",
              "\n",
              "      [theme=dark] .colab-df-generate:hover {\n",
              "        background-color: #434B5C;\n",
              "        box-shadow: 0px 1px 3px 1px rgba(0, 0, 0, 0.15);\n",
              "        filter: drop-shadow(0px 1px 2px rgba(0, 0, 0, 0.3));\n",
              "        fill: #FFFFFF;\n",
              "      }\n",
              "    </style>\n",
              "    <button class=\"colab-df-generate\" onclick=\"generateWithVariable('pivot')\"\n",
              "            title=\"Generate code using this dataframe.\"\n",
              "            style=\"display:none;\">\n",
              "\n",
              "  <svg xmlns=\"http://www.w3.org/2000/svg\" height=\"24px\"viewBox=\"0 0 24 24\"\n",
              "       width=\"24px\">\n",
              "    <path d=\"M7,19H8.4L18.45,9,17,7.55,7,17.6ZM5,21V16.75L18.45,3.32a2,2,0,0,1,2.83,0l1.4,1.43a1.91,1.91,0,0,1,.58,1.4,1.91,1.91,0,0,1-.58,1.4L9.25,21ZM18.45,9,17,7.55Zm-12,3A5.31,5.31,0,0,0,4.9,8.1,5.31,5.31,0,0,0,1,6.5,5.31,5.31,0,0,0,4.9,4.9,5.31,5.31,0,0,0,6.5,1,5.31,5.31,0,0,0,8.1,4.9,5.31,5.31,0,0,0,12,6.5,5.46,5.46,0,0,0,6.5,12Z\"/>\n",
              "  </svg>\n",
              "    </button>\n",
              "    <script>\n",
              "      (() => {\n",
              "      const buttonEl =\n",
              "        document.querySelector('#id_7318d5b9-09da-4db7-82c6-501ed418fac3 button.colab-df-generate');\n",
              "      buttonEl.style.display =\n",
              "        google.colab.kernel.accessAllowed ? 'block' : 'none';\n",
              "\n",
              "      buttonEl.onclick = () => {\n",
              "        google.colab.notebook.generateWithVariable('pivot');\n",
              "      }\n",
              "      })();\n",
              "    </script>\n",
              "  </div>\n",
              "\n",
              "    </div>\n",
              "  </div>\n"
            ],
            "application/vnd.google.colaboratory.intrinsic+json": {
              "type": "dataframe",
              "variable_name": "pivot",
              "summary": "{\n  \"name\": \"pivot\",\n  \"rows\": 987,\n  \"fields\": [\n    {\n      \"column\": \"SBP\",\n      \"properties\": {\n        \"dtype\": \"number\",\n        \"std\": 56.91724733576024,\n        \"min\": 20.0,\n        \"max\": 300.0,\n        \"num_unique_values\": 987,\n        \"samples\": [\n          103.13,\n          77.75,\n          128.75\n        ],\n        \"semantic_type\": \"\",\n        \"description\": \"\"\n      }\n    },\n    {\n      \"column\": \"Age\",\n      \"properties\": {\n        \"dtype\": \"number\",\n        \"std\": 9.104201865606198,\n        \"min\": 19.0,\n        \"max\": 100.0,\n        \"num_unique_values\": 848,\n        \"samples\": [\n          72.685,\n          61.59855366170089,\n          66.21377049180327\n        ],\n        \"semantic_type\": \"\",\n        \"description\": \"\"\n      }\n    }\n  ]\n}"
            }
          },
          "metadata": {},
          "execution_count": 34
        }
      ]
    },
    {
      "cell_type": "markdown",
      "source": [
        "## **12. Time Series Analysis:**\n",
        "\n",
        "Pandas has extensive support for time series data.\n",
        "\n",
        "#### **Creating a Time Series:**"
      ],
      "metadata": {
        "id": "QLOOD2-CohQB"
      }
    },
    {
      "cell_type": "code",
      "source": [
        "date_range = pd.date_range(start=\"2024-01-01\", periods=5, freq=\"D\")\n",
        "time_series = pd.Series([1, 2, 3, 4, 5], index=date_range)\n",
        "print(time_series)"
      ],
      "metadata": {
        "colab": {
          "base_uri": "https://localhost:8080/"
        },
        "id": "1SMamd3snhP1",
        "outputId": "5cf2bcf6-7a72-41a1-f4bd-14cd94de7c21"
      },
      "execution_count": 35,
      "outputs": [
        {
          "output_type": "stream",
          "name": "stdout",
          "text": [
            "2024-01-01    1\n",
            "2024-01-02    2\n",
            "2024-01-03    3\n",
            "2024-01-04    4\n",
            "2024-01-05    5\n",
            "Freq: D, dtype: int64\n"
          ]
        }
      ]
    },
    {
      "cell_type": "markdown",
      "source": [
        "## **13. Visualization with Pandas:**\n",
        "\n",
        "You can plot data using `plot()` (requires `matplotlib`)."
      ],
      "metadata": {
        "id": "Uagh03-Zo7d8"
      }
    },
    {
      "cell_type": "code",
      "source": [
        "df[\"Age\"].plot(kind=\"bar\")"
      ],
      "metadata": {
        "id": "sUYeCnaKoZKQ"
      },
      "execution_count": null,
      "outputs": []
    },
    {
      "cell_type": "code",
      "source": [],
      "metadata": {
        "id": "GJaeqEaIpFL1"
      },
      "execution_count": null,
      "outputs": []
    }
  ]
}