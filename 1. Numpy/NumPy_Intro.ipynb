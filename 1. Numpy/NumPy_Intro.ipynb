{
  "cells": [
    {
      "cell_type": "markdown",
      "metadata": {
        "id": "vxRwPsFDuinA"
      },
      "source": [
        "# **NumPy Documentation**"
      ]
    },
    {
      "cell_type": "markdown",
      "metadata": {
        "id": "0-aX5-EZuqUg"
      },
      "source": [
        "## **1. Introduction to NumPy:**\n",
        "\n",
        "NumPy (Numerical Python) is a powerful library for numerical computations in Python. It provides support for multi-dimensional arrays and matrices, along with a collection of mathematical functions to operate on these arrays.\n",
        "\n",
        "Key Features:\n",
        "\n",
        "    - Multi-dimensional array support (`ndarray`)\n",
        "    - Fast mathematical operations\n",
        "    - Broadcasting for vectorized   operations\n",
        "    - Integration with C/C++ and Fortran for high-performance computations"
      ]
    },
    {
      "cell_type": "markdown",
      "metadata": {
        "id": "hfdpja4guxMX"
      },
      "source": [
        "## **2. Installation:**\n",
        "\n",
        "To install NumPy, use the following command:"
      ]
    },
    {
      "cell_type": "code",
      "execution_count": 1,
      "metadata": {
        "colab": {
          "base_uri": "https://localhost:8080/"
        },
        "id": "rtNx8xS2ulHn",
        "outputId": "0850b259-9ef6-4aed-f2f4-d49d183f3012"
      },
      "outputs": [
        {
          "name": "stdout",
          "output_type": "stream",
          "text": [
            "Requirement already satisfied: numpy in /usr/local/lib/python3.10/dist-packages (1.26.4)\n"
          ]
        }
      ],
      "source": [
        "pip install numpy"
      ]
    },
    {
      "cell_type": "markdown",
      "metadata": {
        "id": "7UwNfBmRvB_H"
      },
      "source": [
        "The `np` alias is a standard convention in the Python community."
      ]
    },
    {
      "cell_type": "markdown",
      "metadata": {
        "id": "foZlliQLu4YS"
      },
      "source": [
        "## **3. Importing NumPy (`ndarray`):**\n",
        "\n",
        "#### **Creating Arrays:**\n",
        "\n",
        "You can create NumPy arrays using `np.array().`\n",
        "\n",
        "Example:"
      ]
    },
    {
      "cell_type": "code",
      "execution_count": 3,
      "metadata": {
        "colab": {
          "base_uri": "https://localhost:8080/"
        },
        "id": "4xAweNahurWP",
        "outputId": "04861c4d-7cbe-4c9a-f6ed-2d4eb740945a"
      },
      "outputs": [
        {
          "name": "stdout",
          "output_type": "stream",
          "text": [
            "[1 2 3]\n",
            "[[1 2 3]\n",
            " [4 5 6]]\n"
          ]
        }
      ],
      "source": [
        "import numpy as np\n",
        "\n",
        "# 1D array\n",
        "arr1 = np.array([1, 2, 3])\n",
        "print(arr1)  # Output: [1 2 3]\n",
        "\n",
        "# 2D array\n",
        "arr2 = np.array([[1, 2, 3], [4, 5, 6]])\n",
        "print(arr2)"
      ]
    },
    {
      "cell_type": "markdown",
      "metadata": {
        "id": "aGPerT-MwYXs"
      },
      "source": [
        "#### **Array Attributes:**\n",
        "\n",
        "Common attributes of `ndarray`:\n",
        "\n",
        "    shape: Returns the dimensions of the array\n",
        "    ndim: Returns the number of dimensions\n",
        "    dtype: Data type of the array elements\n",
        "    size: Number of elements in the array\n",
        "\n",
        "Example:"
      ]
    },
    {
      "cell_type": "code",
      "execution_count": 4,
      "metadata": {
        "colab": {
          "base_uri": "https://localhost:8080/"
        },
        "id": "TKPbm6Lr8xB4",
        "outputId": "3b835b01-c75e-4968-d04b-8cf9f88fda2b"
      },
      "outputs": [
        {
          "name": "stdout",
          "output_type": "stream",
          "text": [
            "Shape: (2, 3)\n",
            "Number of dimensions: 2\n",
            "Data type: int64\n",
            "Size: 6\n"
          ]
        }
      ],
      "source": [
        "arr = np.array([[1, 2, 3], [4, 5, 6]])\n",
        "print(\"Shape:\", arr.shape)  # Output: (2, 3)\n",
        "print(\"Number of dimensions:\", arr.ndim)  # Output: 2\n",
        "print(\"Data type:\", arr.dtype)  # Output: int64 (or int32 on some systems)\n",
        "print(\"Size:\", arr.size)  # Output: 6"
      ]
    },
    {
      "cell_type": "markdown",
      "metadata": {
        "id": "8F3P5lqlvJl9"
      },
      "source": [
        "## **4. Array Initialization Methods:**\n",
        "\n",
        "NumPy provides several functions to create arrays with predefined values.\n",
        "#### **4.1. `np.zeros()`:**\n",
        "\n",
        "Creates an array of zeros."
      ]
    },
    {
      "cell_type": "code",
      "execution_count": 5,
      "metadata": {
        "colab": {
          "base_uri": "https://localhost:8080/"
        },
        "id": "1MamqRBYvAlI",
        "outputId": "7f8b49fa-df3d-4610-9594-e4aff27f898e"
      },
      "outputs": [
        {
          "name": "stdout",
          "output_type": "stream",
          "text": [
            "[[0. 0. 0.]\n",
            " [0. 0. 0.]]\n"
          ]
        }
      ],
      "source": [
        "zeros_array = np.zeros((2, 3))\n",
        "print(zeros_array)"
      ]
    },
    {
      "cell_type": "markdown",
      "metadata": {
        "id": "JtlJI-ER9EQu"
      },
      "source": [
        "#### **4.2. `np.ones()`:**\n",
        "\n",
        "Creates an array of ones."
      ]
    },
    {
      "cell_type": "code",
      "execution_count": 6,
      "metadata": {
        "colab": {
          "base_uri": "https://localhost:8080/"
        },
        "id": "JcQuWA5i9CGB",
        "outputId": "a2cc74bd-7305-4d9b-beee-3b52be07dc43"
      },
      "outputs": [
        {
          "name": "stdout",
          "output_type": "stream",
          "text": [
            "[[1. 1. 1.]\n",
            " [1. 1. 1.]\n",
            " [1. 1. 1.]]\n"
          ]
        }
      ],
      "source": [
        "ones_array = np.ones((3, 3))\n",
        "print(ones_array)"
      ]
    },
    {
      "cell_type": "markdown",
      "metadata": {
        "id": "-_37JOlt9cTo"
      },
      "source": [
        "#### **4.3. `np.eye()`:**\n",
        "\n",
        "Creates an identity matrix."
      ]
    },
    {
      "cell_type": "code",
      "execution_count": 7,
      "metadata": {
        "colab": {
          "base_uri": "https://localhost:8080/"
        },
        "id": "TsIvnqMa9L1n",
        "outputId": "3ea1541c-c399-4be6-97c3-8ff031000094"
      },
      "outputs": [
        {
          "name": "stdout",
          "output_type": "stream",
          "text": [
            "[[1. 0. 0. 0.]\n",
            " [0. 1. 0. 0.]\n",
            " [0. 0. 1. 0.]\n",
            " [0. 0. 0. 1.]]\n"
          ]
        }
      ],
      "source": [
        "identity_matrix = np.eye(4)\n",
        "print(identity_matrix)"
      ]
    },
    {
      "cell_type": "markdown",
      "metadata": {
        "id": "Y8Ze3Mgh9mMj"
      },
      "source": [
        "#### **4.4. `np.arange()`:**\n",
        "\n",
        "Creates an array with a range of values."
      ]
    },
    {
      "cell_type": "code",
      "execution_count": 8,
      "metadata": {
        "colab": {
          "base_uri": "https://localhost:8080/"
        },
        "id": "TYSohw579iiA",
        "outputId": "3aec15fe-0448-4535-d1ee-f34b53230b98"
      },
      "outputs": [
        {
          "name": "stdout",
          "output_type": "stream",
          "text": [
            "[0 2 4 6 8]\n"
          ]
        }
      ],
      "source": [
        "range_array = np.arange(0, 10, 2)  # Start at 0, end at 10, step by 2\n",
        "print(range_array)  # Output: [0 2 4 6 8]"
      ]
    },
    {
      "cell_type": "markdown",
      "metadata": {
        "id": "Uzo-3Sb592Qp"
      },
      "source": [
        "## **5. Array Indexing and Slicing:**\n",
        "#### **Indexing:**\n",
        "\n",
        "Access elements in an array using square brackets `[]`."
      ]
    },
    {
      "cell_type": "code",
      "execution_count": 9,
      "metadata": {
        "colab": {
          "base_uri": "https://localhost:8080/"
        },
        "id": "d2ZmqIfq9tXC",
        "outputId": "158cae74-51f7-44a3-cccd-91245041bf00"
      },
      "outputs": [
        {
          "name": "stdout",
          "output_type": "stream",
          "text": [
            "20\n"
          ]
        }
      ],
      "source": [
        "arr = np.array([10, 20, 30, 40])\n",
        "print(arr[1])  # Output: 20"
      ]
    },
    {
      "cell_type": "markdown",
      "metadata": {
        "id": "6SxX7b_V-Cov"
      },
      "source": [
        "#### **Slicing:**\n",
        "\n",
        "Extract a portion of the array."
      ]
    },
    {
      "cell_type": "code",
      "execution_count": 10,
      "metadata": {
        "colab": {
          "base_uri": "https://localhost:8080/"
        },
        "id": "1XeBLyQC-ArR",
        "outputId": "277e3a01-33ee-4584-dc4e-b86750fcf354"
      },
      "outputs": [
        {
          "name": "stdout",
          "output_type": "stream",
          "text": [
            "[20 30 40]\n"
          ]
        }
      ],
      "source": [
        "arr = np.array([10, 20, 30, 40, 50])\n",
        "print(arr[1:4])  # Output: [20 30 40]"
      ]
    },
    {
      "cell_type": "markdown",
      "metadata": {
        "id": "jnhxEg16-K-W"
      },
      "source": [
        "#### **Indexing in Multi-dimensional Arrays:**"
      ]
    },
    {
      "cell_type": "code",
      "execution_count": 11,
      "metadata": {
        "colab": {
          "base_uri": "https://localhost:8080/"
        },
        "id": "Fu3M2c2u-H13",
        "outputId": "e0ff6949-6bb1-42ba-ef9d-992214f3d44b"
      },
      "outputs": [
        {
          "name": "stdout",
          "output_type": "stream",
          "text": [
            "6\n"
          ]
        }
      ],
      "source": [
        "arr = np.array([[1, 2, 3], [4, 5, 6], [7, 8, 9]])\n",
        "print(arr[1, 2])  # Output: 6"
      ]
    },
    {
      "cell_type": "markdown",
      "metadata": {
        "id": "TbrN5g2s-Rt-"
      },
      "source": [
        "## **6. Array Operations:**\n",
        "#### **Element-wise Operations:**"
      ]
    },
    {
      "cell_type": "code",
      "execution_count": 12,
      "metadata": {
        "colab": {
          "base_uri": "https://localhost:8080/"
        },
        "id": "HsD2iyS0-PSp",
        "outputId": "cd92e06c-761b-4272-9fe2-f01a4cbcae4b"
      },
      "outputs": [
        {
          "name": "stdout",
          "output_type": "stream",
          "text": [
            "[5 7 9]\n",
            "[ 4 10 18]\n"
          ]
        }
      ],
      "source": [
        "arr1 = np.array([1, 2, 3])\n",
        "arr2 = np.array([4, 5, 6])\n",
        "\n",
        "# Addition\n",
        "print(arr1 + arr2)  # Output: [5 7 9]\n",
        "\n",
        "# Multiplication\n",
        "print(arr1 * arr2)  # Output: [ 4 10 18]"
      ]
    },
    {
      "cell_type": "markdown",
      "metadata": {
        "id": "V_t5Y1xv-izU"
      },
      "source": [
        "#### **Broadcasting:**\n",
        "\n",
        "NumPy allows operations on arrays of different shapes through broadcasting."
      ]
    },
    {
      "cell_type": "code",
      "execution_count": 13,
      "metadata": {
        "colab": {
          "base_uri": "https://localhost:8080/"
        },
        "id": "VDl8rngR-Z8l",
        "outputId": "5b37422f-ee5c-46f6-c55f-bb76367050f2"
      },
      "outputs": [
        {
          "name": "stdout",
          "output_type": "stream",
          "text": [
            "[6 7 8]\n"
          ]
        }
      ],
      "source": [
        "arr = np.array([1, 2, 3])\n",
        "print(arr + 5)  # Output: [6 7 8]"
      ]
    },
    {
      "cell_type": "markdown",
      "metadata": {
        "id": "8tleqYaB-qox"
      },
      "source": [
        "## **7. Mathematical Functions:**\n",
        "#### **7.1. `np.sum()`:**\n",
        "\n",
        "Computes the sum of elements."
      ]
    },
    {
      "cell_type": "code",
      "execution_count": 14,
      "metadata": {
        "colab": {
          "base_uri": "https://localhost:8080/"
        },
        "id": "pk5_I5T4-oEs",
        "outputId": "f612bec3-fdc4-4160-dfba-7a94cc310c30"
      },
      "outputs": [
        {
          "name": "stdout",
          "output_type": "stream",
          "text": [
            "10\n"
          ]
        }
      ],
      "source": [
        "arr = np.array([1, 2, 3, 4])\n",
        "print(np.sum(arr))  # Output: 10"
      ]
    },
    {
      "cell_type": "markdown",
      "metadata": {
        "id": "VBkn3zha-6b2"
      },
      "source": [
        "#### **7.2. `np.mean()`:\n",
        "\n",
        "Computes the mean (average) of elements."
      ]
    },
    {
      "cell_type": "code",
      "execution_count": 15,
      "metadata": {
        "colab": {
          "base_uri": "https://localhost:8080/"
        },
        "id": "UhG_blwZ-zqq",
        "outputId": "30515cb4-4878-4f77-be41-41609515ae86"
      },
      "outputs": [
        {
          "name": "stdout",
          "output_type": "stream",
          "text": [
            "2.5\n"
          ]
        }
      ],
      "source": [
        "arr = np.array([1, 2, 3, 4])\n",
        "print(np.mean(arr))  # Output: 2.5"
      ]
    },
    {
      "cell_type": "markdown",
      "metadata": {
        "id": "TCVmnVge_YCs"
      },
      "source": [
        "#### **7.3. `np.max()` and `np.min()`:**\n",
        "\n",
        "Finds the maximum and minimum values."
      ]
    },
    {
      "cell_type": "code",
      "execution_count": 16,
      "metadata": {
        "colab": {
          "base_uri": "https://localhost:8080/"
        },
        "id": "ArEqPjnk_VYE",
        "outputId": "e3b163e6-dd73-4840-8efd-fc42ebc3cfab"
      },
      "outputs": [
        {
          "name": "stdout",
          "output_type": "stream",
          "text": [
            "4\n",
            "1\n"
          ]
        }
      ],
      "source": [
        "arr = np.array([1, 2, 3, 4])\n",
        "print(np.max(arr))  # Output: 4\n",
        "print(np.min(arr))  # Output: 1"
      ]
    },
    {
      "cell_type": "markdown",
      "metadata": {
        "id": "hI-J2sf8_l71"
      },
      "source": [
        "## **8. Reshaping Arrays:**\n",
        "`np.reshape()`\n",
        "\n",
        "Change the shape of an array."
      ]
    },
    {
      "cell_type": "code",
      "execution_count": 17,
      "metadata": {
        "colab": {
          "base_uri": "https://localhost:8080/"
        },
        "id": "JgIRZwdK_f_J",
        "outputId": "90f46f32-349b-40ee-b2b8-b49629895ec0"
      },
      "outputs": [
        {
          "name": "stdout",
          "output_type": "stream",
          "text": [
            "[[1 2 3]\n",
            " [4 5 6]]\n"
          ]
        }
      ],
      "source": [
        "arr = np.array([1, 2, 3, 4, 5, 6])\n",
        "reshaped_arr = arr.reshape(2, 3)\n",
        "print(reshaped_arr)"
      ]
    },
    {
      "cell_type": "markdown",
      "metadata": {
        "id": "iu3NOww5_0d9"
      },
      "source": [
        "## **9. Random Number Generation:**\n",
        "\n",
        "NumPy provides several functions to generate random numbers.\n",
        "\n",
        "`np.random.rand()`:\n",
        "\n",
        "Generates random values between 0 and 1."
      ]
    },
    {
      "cell_type": "code",
      "execution_count": 18,
      "metadata": {
        "colab": {
          "base_uri": "https://localhost:8080/"
        },
        "id": "dJt-i81N_xcY",
        "outputId": "cd971e02-86e1-4fa2-c5a4-0ee3af69ca2e"
      },
      "outputs": [
        {
          "name": "stdout",
          "output_type": "stream",
          "text": [
            "[[0.15851058 0.77840476 0.34719142]\n",
            " [0.51134158 0.36217371 0.95096118]\n",
            " [0.87167579 0.0574698  0.44772025]]\n"
          ]
        }
      ],
      "source": [
        "random_array = np.random.rand(3, 3)\n",
        "print(random_array)"
      ]
    },
    {
      "cell_type": "markdown",
      "metadata": {
        "id": "ONIKLPIpAKK3"
      },
      "source": [
        "`np.random.randint()`:\n",
        "\n",
        "Generates random integers within a specified range."
      ]
    },
    {
      "cell_type": "code",
      "execution_count": 19,
      "metadata": {
        "colab": {
          "base_uri": "https://localhost:8080/"
        },
        "id": "QaAn-2pr_9_I",
        "outputId": "47ca9f51-aa02-4ebd-bf50-7d724b50688c"
      },
      "outputs": [
        {
          "name": "stdout",
          "output_type": "stream",
          "text": [
            "[[7 6 4]\n",
            " [7 8 6]]\n"
          ]
        }
      ],
      "source": [
        "random_int_array = np.random.randint(1, 10, (2, 3))\n",
        "print(random_int_array)"
      ]
    },
    {
      "cell_type": "markdown",
      "metadata": {
        "id": "y6Q4l_zWAaAY"
      },
      "source": [
        "## **10. Linear Algebra with NumPy:**\n",
        "Matrix Multiplication (`np.dot()`)"
      ]
    },
    {
      "cell_type": "code",
      "execution_count": 20,
      "metadata": {
        "colab": {
          "base_uri": "https://localhost:8080/"
        },
        "id": "MhXc0IfaAUWe",
        "outputId": "47c96b0f-7f56-4d5b-e3c3-e46ea1ea8f80"
      },
      "outputs": [
        {
          "name": "stdout",
          "output_type": "stream",
          "text": [
            "[[19 22]\n",
            " [43 50]]\n"
          ]
        }
      ],
      "source": [
        "A = np.array([[1, 2], [3, 4]])\n",
        "B = np.array([[5, 6], [7, 8]])\n",
        "result = np.dot(A, B)\n",
        "print(result)"
      ]
    },
    {
      "cell_type": "markdown",
      "metadata": {
        "id": "s7UqZ2GiAlwB"
      },
      "source": [
        "## **11. Saving and Loading Data:**\n",
        "**Saving Arrays:**"
      ]
    },
    {
      "cell_type": "code",
      "execution_count": 21,
      "metadata": {
        "id": "surxQUELAhgc"
      },
      "outputs": [],
      "source": [
        "arr = np.array([1, 2, 3])\n",
        "np.save('array.npy', arr)"
      ]
    },
    {
      "cell_type": "markdown",
      "metadata": {
        "id": "8_tgXXp9AuIa"
      },
      "source": [
        "**Loading Arrays:**"
      ]
    },
    {
      "cell_type": "code",
      "execution_count": 22,
      "metadata": {
        "colab": {
          "base_uri": "https://localhost:8080/"
        },
        "id": "osIH7je1ArvT",
        "outputId": "591007db-7e57-4506-f734-9d4e61a155aa"
      },
      "outputs": [
        {
          "name": "stdout",
          "output_type": "stream",
          "text": [
            "[1 2 3]\n"
          ]
        }
      ],
      "source": [
        "loaded_arr = np.load('array.npy')\n",
        "print(loaded_arr)"
      ]
    }
  ],
  "metadata": {
    "colab": {
      "provenance": []
    },
    "kernelspec": {
      "display_name": "Python 3",
      "name": "python3"
    },
    "language_info": {
      "name": "python"
    }
  },
  "nbformat": 4,
  "nbformat_minor": 0
}
